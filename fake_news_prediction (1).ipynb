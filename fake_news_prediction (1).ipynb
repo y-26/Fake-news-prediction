{
 "cells": [
  {
   "cell_type": "code",
   "execution_count": 51,
   "id": "b38e4474",
   "metadata": {},
   "outputs": [],
   "source": [
    "#importing the necessary libraries"
   ]
  },
  {
   "cell_type": "code",
   "execution_count": 52,
   "id": "3ced2320",
   "metadata": {},
   "outputs": [],
   "source": [
    "import numpy as np\n",
    "import pandas as pd\n",
    "import re\n",
    "from nltk.corpus import stopwords\n",
    "from nltk.stem.porter import PorterStemmer\n",
    "from sklearn.feature_extraction.text import TfidfVectorizer\n",
    "from sklearn.model_selection import train_test_split\n",
    "from sklearn.linear_model import LogisticRegression\n",
    "from sklearn.metrics import accuracy_score"
   ]
  },
  {
   "cell_type": "code",
   "execution_count": 53,
   "id": "d42e3a8c",
   "metadata": {},
   "outputs": [
    {
     "name": "stderr",
     "output_type": "stream",
     "text": [
      "[nltk_data] Downloading package stopwords to\n",
      "[nltk_data]     C:\\Users\\acer\\AppData\\Roaming\\nltk_data...\n",
      "[nltk_data]   Package stopwords is already up-to-date!\n"
     ]
    },
    {
     "data": {
      "text/plain": [
       "True"
      ]
     },
     "execution_count": 53,
     "metadata": {},
     "output_type": "execute_result"
    }
   ],
   "source": [
    "import nltk\n",
    "nltk.download('stopwords')"
   ]
  },
  {
   "cell_type": "code",
   "execution_count": 54,
   "id": "c144eb17",
   "metadata": {},
   "outputs": [
    {
     "name": "stdout",
     "output_type": "stream",
     "text": [
      "['i', 'me', 'my', 'myself', 'we', 'our', 'ours', 'ourselves', 'you', \"you're\", \"you've\", \"you'll\", \"you'd\", 'your', 'yours', 'yourself', 'yourselves', 'he', 'him', 'his', 'himself', 'she', \"she's\", 'her', 'hers', 'herself', 'it', \"it's\", 'its', 'itself', 'they', 'them', 'their', 'theirs', 'themselves', 'what', 'which', 'who', 'whom', 'this', 'that', \"that'll\", 'these', 'those', 'am', 'is', 'are', 'was', 'were', 'be', 'been', 'being', 'have', 'has', 'had', 'having', 'do', 'does', 'did', 'doing', 'a', 'an', 'the', 'and', 'but', 'if', 'or', 'because', 'as', 'until', 'while', 'of', 'at', 'by', 'for', 'with', 'about', 'against', 'between', 'into', 'through', 'during', 'before', 'after', 'above', 'below', 'to', 'from', 'up', 'down', 'in', 'out', 'on', 'off', 'over', 'under', 'again', 'further', 'then', 'once', 'here', 'there', 'when', 'where', 'why', 'how', 'all', 'any', 'both', 'each', 'few', 'more', 'most', 'other', 'some', 'such', 'no', 'nor', 'not', 'only', 'own', 'same', 'so', 'than', 'too', 'very', 's', 't', 'can', 'will', 'just', 'don', \"don't\", 'should', \"should've\", 'now', 'd', 'll', 'm', 'o', 're', 've', 'y', 'ain', 'aren', \"aren't\", 'couldn', \"couldn't\", 'didn', \"didn't\", 'doesn', \"doesn't\", 'hadn', \"hadn't\", 'hasn', \"hasn't\", 'haven', \"haven't\", 'isn', \"isn't\", 'ma', 'mightn', \"mightn't\", 'mustn', \"mustn't\", 'needn', \"needn't\", 'shan', \"shan't\", 'shouldn', \"shouldn't\", 'wasn', \"wasn't\", 'weren', \"weren't\", 'won', \"won't\", 'wouldn', \"wouldn't\"]\n"
     ]
    }
   ],
   "source": [
    "print(stopwords.words('english'))"
   ]
  },
  {
   "cell_type": "code",
   "execution_count": 55,
   "id": "49c9c70c",
   "metadata": {},
   "outputs": [],
   "source": [
    "#Data Pre-processing"
   ]
  },
  {
   "cell_type": "code",
   "execution_count": 56,
   "id": "32c16396",
   "metadata": {},
   "outputs": [],
   "source": [
    "#loading the dataset to a pandas dataframe"
   ]
  },
  {
   "cell_type": "code",
   "execution_count": 57,
   "id": "659e674c",
   "metadata": {},
   "outputs": [],
   "source": [
    "news_dataset= pd.read_csv('train.csv')"
   ]
  },
  {
   "cell_type": "code",
   "execution_count": 58,
   "id": "2cd44aa5",
   "metadata": {},
   "outputs": [
    {
     "data": {
      "text/plain": [
       "(20800, 5)"
      ]
     },
     "execution_count": 58,
     "metadata": {},
     "output_type": "execute_result"
    }
   ],
   "source": [
    "news_dataset.shape"
   ]
  },
  {
   "cell_type": "code",
   "execution_count": 59,
   "id": "34e02863",
   "metadata": {},
   "outputs": [
    {
     "data": {
      "text/html": [
       "<div>\n",
       "<style scoped>\n",
       "    .dataframe tbody tr th:only-of-type {\n",
       "        vertical-align: middle;\n",
       "    }\n",
       "\n",
       "    .dataframe tbody tr th {\n",
       "        vertical-align: top;\n",
       "    }\n",
       "\n",
       "    .dataframe thead th {\n",
       "        text-align: right;\n",
       "    }\n",
       "</style>\n",
       "<table border=\"1\" class=\"dataframe\">\n",
       "  <thead>\n",
       "    <tr style=\"text-align: right;\">\n",
       "      <th></th>\n",
       "      <th>id</th>\n",
       "      <th>title</th>\n",
       "      <th>author</th>\n",
       "      <th>text</th>\n",
       "      <th>label</th>\n",
       "    </tr>\n",
       "  </thead>\n",
       "  <tbody>\n",
       "    <tr>\n",
       "      <th>0</th>\n",
       "      <td>0</td>\n",
       "      <td>House Dem Aide: We Didn’t Even See Comey’s Let...</td>\n",
       "      <td>Darrell Lucus</td>\n",
       "      <td>House Dem Aide: We Didn’t Even See Comey’s Let...</td>\n",
       "      <td>1</td>\n",
       "    </tr>\n",
       "    <tr>\n",
       "      <th>1</th>\n",
       "      <td>1</td>\n",
       "      <td>FLYNN: Hillary Clinton, Big Woman on Campus - ...</td>\n",
       "      <td>Daniel J. Flynn</td>\n",
       "      <td>Ever get the feeling your life circles the rou...</td>\n",
       "      <td>0</td>\n",
       "    </tr>\n",
       "    <tr>\n",
       "      <th>2</th>\n",
       "      <td>2</td>\n",
       "      <td>Why the Truth Might Get You Fired</td>\n",
       "      <td>Consortiumnews.com</td>\n",
       "      <td>Why the Truth Might Get You Fired October 29, ...</td>\n",
       "      <td>1</td>\n",
       "    </tr>\n",
       "    <tr>\n",
       "      <th>3</th>\n",
       "      <td>3</td>\n",
       "      <td>15 Civilians Killed In Single US Airstrike Hav...</td>\n",
       "      <td>Jessica Purkiss</td>\n",
       "      <td>Videos 15 Civilians Killed In Single US Airstr...</td>\n",
       "      <td>1</td>\n",
       "    </tr>\n",
       "    <tr>\n",
       "      <th>4</th>\n",
       "      <td>4</td>\n",
       "      <td>Iranian woman jailed for fictional unpublished...</td>\n",
       "      <td>Howard Portnoy</td>\n",
       "      <td>Print \\nAn Iranian woman has been sentenced to...</td>\n",
       "      <td>1</td>\n",
       "    </tr>\n",
       "  </tbody>\n",
       "</table>\n",
       "</div>"
      ],
      "text/plain": [
       "   id                                              title              author  \\\n",
       "0   0  House Dem Aide: We Didn’t Even See Comey’s Let...       Darrell Lucus   \n",
       "1   1  FLYNN: Hillary Clinton, Big Woman on Campus - ...     Daniel J. Flynn   \n",
       "2   2                  Why the Truth Might Get You Fired  Consortiumnews.com   \n",
       "3   3  15 Civilians Killed In Single US Airstrike Hav...     Jessica Purkiss   \n",
       "4   4  Iranian woman jailed for fictional unpublished...      Howard Portnoy   \n",
       "\n",
       "                                                text  label  \n",
       "0  House Dem Aide: We Didn’t Even See Comey’s Let...      1  \n",
       "1  Ever get the feeling your life circles the rou...      0  \n",
       "2  Why the Truth Might Get You Fired October 29, ...      1  \n",
       "3  Videos 15 Civilians Killed In Single US Airstr...      1  \n",
       "4  Print \\nAn Iranian woman has been sentenced to...      1  "
      ]
     },
     "execution_count": 59,
     "metadata": {},
     "output_type": "execute_result"
    }
   ],
   "source": [
    "news_dataset.head()"
   ]
  },
  {
   "cell_type": "code",
   "execution_count": 60,
   "id": "b721e9fe",
   "metadata": {},
   "outputs": [
    {
     "data": {
      "text/plain": [
       "id           0\n",
       "title      558\n",
       "author    1957\n",
       "text        39\n",
       "label        0\n",
       "dtype: int64"
      ]
     },
     "execution_count": 60,
     "metadata": {},
     "output_type": "execute_result"
    }
   ],
   "source": [
    "news_dataset.isnull().sum()"
   ]
  },
  {
   "cell_type": "code",
   "execution_count": 61,
   "id": "bd70e6b8",
   "metadata": {},
   "outputs": [],
   "source": [
    "#replacing the null values with empty string\n",
    "news_dataset= news_dataset.fillna('')"
   ]
  },
  {
   "cell_type": "code",
   "execution_count": 62,
   "id": "cf954587",
   "metadata": {},
   "outputs": [],
   "source": [
    "#merging the author name and news title"
   ]
  },
  {
   "cell_type": "code",
   "execution_count": 63,
   "id": "965fb858",
   "metadata": {},
   "outputs": [],
   "source": [
    "news_dataset['content']= news_dataset['author']+' '+['title']"
   ]
  },
  {
   "cell_type": "code",
   "execution_count": 64,
   "id": "41255531",
   "metadata": {},
   "outputs": [
    {
     "name": "stdout",
     "output_type": "stream",
     "text": [
      "0                                    Darrell Lucus title\n",
      "1                                  Daniel J. Flynn title\n",
      "2                               Consortiumnews.com title\n",
      "3                                  Jessica Purkiss title\n",
      "4                                   Howard Portnoy title\n",
      "                              ...                       \n",
      "20795                                Jerome Hudson title\n",
      "20796                             Benjamin Hoffman title\n",
      "20797    Michael J. de la Merced and Rachel Abrams title\n",
      "20798                                  Alex Ansary title\n",
      "20799                                David Swanson title\n",
      "Name: content, Length: 20800, dtype: object\n"
     ]
    }
   ],
   "source": [
    "print(news_dataset['content'])"
   ]
  },
  {
   "cell_type": "code",
   "execution_count": 65,
   "id": "245767e4",
   "metadata": {},
   "outputs": [],
   "source": [
    "#seperating the data & label"
   ]
  },
  {
   "cell_type": "code",
   "execution_count": 66,
   "id": "f7a1419b",
   "metadata": {},
   "outputs": [],
   "source": [
    "X= news_dataset.drop(columns='label', axis=1)"
   ]
  },
  {
   "cell_type": "code",
   "execution_count": 67,
   "id": "d7597fa7",
   "metadata": {},
   "outputs": [],
   "source": [
    "Y= news_dataset['label']"
   ]
  },
  {
   "cell_type": "code",
   "execution_count": 68,
   "id": "aaab571f",
   "metadata": {},
   "outputs": [
    {
     "name": "stdout",
     "output_type": "stream",
     "text": [
      "          id                                              title  \\\n",
      "0          0  House Dem Aide: We Didn’t Even See Comey’s Let...   \n",
      "1          1  FLYNN: Hillary Clinton, Big Woman on Campus - ...   \n",
      "2          2                  Why the Truth Might Get You Fired   \n",
      "3          3  15 Civilians Killed In Single US Airstrike Hav...   \n",
      "4          4  Iranian woman jailed for fictional unpublished...   \n",
      "...      ...                                                ...   \n",
      "20795  20795  Rapper T.I.: Trump a ’Poster Child For White S...   \n",
      "20796  20796  N.F.L. Playoffs: Schedule, Matchups and Odds -...   \n",
      "20797  20797  Macy’s Is Said to Receive Takeover Approach by...   \n",
      "20798  20798  NATO, Russia To Hold Parallel Exercises In Bal...   \n",
      "20799  20799                          What Keeps the F-35 Alive   \n",
      "\n",
      "                                          author  \\\n",
      "0                                  Darrell Lucus   \n",
      "1                                Daniel J. Flynn   \n",
      "2                             Consortiumnews.com   \n",
      "3                                Jessica Purkiss   \n",
      "4                                 Howard Portnoy   \n",
      "...                                          ...   \n",
      "20795                              Jerome Hudson   \n",
      "20796                           Benjamin Hoffman   \n",
      "20797  Michael J. de la Merced and Rachel Abrams   \n",
      "20798                                Alex Ansary   \n",
      "20799                              David Swanson   \n",
      "\n",
      "                                                    text  \\\n",
      "0      House Dem Aide: We Didn’t Even See Comey’s Let...   \n",
      "1      Ever get the feeling your life circles the rou...   \n",
      "2      Why the Truth Might Get You Fired October 29, ...   \n",
      "3      Videos 15 Civilians Killed In Single US Airstr...   \n",
      "4      Print \\nAn Iranian woman has been sentenced to...   \n",
      "...                                                  ...   \n",
      "20795  Rapper T. I. unloaded on black celebrities who...   \n",
      "20796  When the Green Bay Packers lost to the Washing...   \n",
      "20797  The Macy’s of today grew from the union of sev...   \n",
      "20798  NATO, Russia To Hold Parallel Exercises In Bal...   \n",
      "20799    David Swanson is an author, activist, journa...   \n",
      "\n",
      "                                               content  \n",
      "0                                  Darrell Lucus title  \n",
      "1                                Daniel J. Flynn title  \n",
      "2                             Consortiumnews.com title  \n",
      "3                                Jessica Purkiss title  \n",
      "4                                 Howard Portnoy title  \n",
      "...                                                ...  \n",
      "20795                              Jerome Hudson title  \n",
      "20796                           Benjamin Hoffman title  \n",
      "20797  Michael J. de la Merced and Rachel Abrams title  \n",
      "20798                                Alex Ansary title  \n",
      "20799                              David Swanson title  \n",
      "\n",
      "[20800 rows x 5 columns]\n",
      "0        1\n",
      "1        0\n",
      "2        1\n",
      "3        1\n",
      "4        1\n",
      "        ..\n",
      "20795    0\n",
      "20796    0\n",
      "20797    0\n",
      "20798    1\n",
      "20799    1\n",
      "Name: label, Length: 20800, dtype: int64\n"
     ]
    }
   ],
   "source": [
    "print(X)\n",
    "print(Y)"
   ]
  },
  {
   "cell_type": "code",
   "execution_count": 69,
   "id": "ff9ae7a4",
   "metadata": {},
   "outputs": [],
   "source": [
    "#Stemming procedure"
   ]
  },
  {
   "cell_type": "code",
   "execution_count": 70,
   "id": "25b60314",
   "metadata": {},
   "outputs": [],
   "source": [
    "port_stem=PorterStemmer()"
   ]
  },
  {
   "cell_type": "code",
   "execution_count": 71,
   "id": "00447b69",
   "metadata": {},
   "outputs": [],
   "source": [
    "def stemming(content):\n",
    "    stemmed_content=re.sub('[^a-zA-Z]',' ',content)\n",
    "    stemmed_content=stemmed_content.lower()\n",
    "    stemmed_content=stemmed_content.split()\n",
    "    stemmed_content=[port_stem.stem(word) for word in stemmed_content if not word in stopwords.words('english')]\n",
    "    stemmed_content=' '.join(stemmed_content)\n",
    "    return stemmed_content"
   ]
  },
  {
   "cell_type": "code",
   "execution_count": 72,
   "id": "89faeb13",
   "metadata": {},
   "outputs": [],
   "source": [
    "news_dataset['content']= news_dataset['content'].apply(stemming)"
   ]
  },
  {
   "cell_type": "code",
   "execution_count": 73,
   "id": "9f57c9ec",
   "metadata": {},
   "outputs": [
    {
     "name": "stdout",
     "output_type": "stream",
     "text": [
      "0                              darrel lucu titl\n",
      "1                           daniel j flynn titl\n",
      "2                        consortiumnew com titl\n",
      "3                          jessica purkiss titl\n",
      "4                           howard portnoy titl\n",
      "                          ...                  \n",
      "20795                         jerom hudson titl\n",
      "20796                     benjamin hoffman titl\n",
      "20797    michael j de la merc rachel abram titl\n",
      "20798                          alex ansari titl\n",
      "20799                        david swanson titl\n",
      "Name: content, Length: 20800, dtype: object\n"
     ]
    }
   ],
   "source": [
    "print(news_dataset['content'])"
   ]
  },
  {
   "cell_type": "code",
   "execution_count": 74,
   "id": "becbb3bb",
   "metadata": {},
   "outputs": [],
   "source": [
    "#seperating the data and label\n",
    "X= news_dataset['content'].values\n",
    "Y= news_dataset['label'].values"
   ]
  },
  {
   "cell_type": "code",
   "execution_count": 75,
   "id": "d2923ff6",
   "metadata": {},
   "outputs": [
    {
     "name": "stdout",
     "output_type": "stream",
     "text": [
      "['darrel lucu titl' 'daniel j flynn titl' 'consortiumnew com titl' ...\n",
      " 'michael j de la merc rachel abram titl' 'alex ansari titl'\n",
      " 'david swanson titl']\n"
     ]
    }
   ],
   "source": [
    "print(X)"
   ]
  },
  {
   "cell_type": "code",
   "execution_count": 76,
   "id": "3eade1a0",
   "metadata": {},
   "outputs": [
    {
     "name": "stdout",
     "output_type": "stream",
     "text": [
      "[1 0 1 ... 0 1 1]\n"
     ]
    }
   ],
   "source": [
    "print(Y)"
   ]
  },
  {
   "cell_type": "code",
   "execution_count": 77,
   "id": "fa3b0e35",
   "metadata": {},
   "outputs": [
    {
     "data": {
      "text/plain": [
       "(20800,)"
      ]
     },
     "execution_count": 77,
     "metadata": {},
     "output_type": "execute_result"
    }
   ],
   "source": [
    "Y.shape"
   ]
  },
  {
   "cell_type": "code",
   "execution_count": 78,
   "id": "8b36b571",
   "metadata": {},
   "outputs": [],
   "source": [
    "#converting textual data into numerical data"
   ]
  },
  {
   "cell_type": "code",
   "execution_count": 79,
   "id": "974b974f",
   "metadata": {},
   "outputs": [],
   "source": [
    "vectorizer= TfidfVectorizer()\n",
    "vectorizer.fit(X)\n",
    "\n",
    "X= vectorizer.transform(X)"
   ]
  },
  {
   "cell_type": "code",
   "execution_count": 80,
   "id": "d3ea8ac3",
   "metadata": {},
   "outputs": [
    {
     "name": "stdout",
     "output_type": "stream",
     "text": [
      "  (0, 3727)\t0.0824703909228459\n",
      "  (0, 2234)\t0.7046980327136698\n",
      "  (0, 850)\t0.7046980327136698\n",
      "  (1, 3727)\t0.1031544300478091\n",
      "  (1, 1234)\t0.8306391422429648\n",
      "  (1, 835)\t0.5471725312325021\n",
      "  (2, 3727)\t0.1187164676458388\n",
      "  (2, 747)\t0.8150145371327273\n",
      "  (2, 728)\t0.5671487499519157\n",
      "  (3, 3727)\t0.07258674993666964\n",
      "  (3, 2973)\t0.7439858171106204\n",
      "  (3, 1815)\t0.664241121635716\n",
      "  (4, 3727)\t0.0991901772244235\n",
      "  (4, 2915)\t0.7078304138389038\n",
      "  (4, 1633)\t0.6993835957375851\n",
      "  (5, 3727)\t0.12186400668874126\n",
      "  (5, 2696)\t0.7531905357454177\n",
      "  (5, 835)\t0.6464156408513776\n",
      "  (6, 3727)\t1.0\n",
      "  (7, 3727)\t0.09064599728491131\n",
      "  (7, 3193)\t0.6965836516776674\n",
      "  (7, 90)\t0.7117264357824782\n",
      "  (8, 3727)\t1.0\n",
      "  (9, 3793)\t0.5479542421831781\n",
      "  (9, 3727)\t0.06412675850202054\n",
      "  :\t:\n",
      "  (20793, 3727)\t0.10730749093752869\n",
      "  (20793, 3133)\t0.607858485979847\n",
      "  (20793, 3100)\t0.7867611857552329\n",
      "  (20794, 3727)\t0.09238741881428476\n",
      "  (20794, 3562)\t0.7813989017324772\n",
      "  (20794, 2125)\t0.6171550220294026\n",
      "  (20795, 3727)\t0.12117610787375321\n",
      "  (20795, 1810)\t0.7022472768666738\n",
      "  (20795, 1643)\t0.7015448047088011\n",
      "  (20796, 3727)\t0.0919256694109515\n",
      "  (20796, 1608)\t0.7352506776897798\n",
      "  (20796, 325)\t0.6715326591164932\n",
      "  (20797, 3727)\t0.05759507534700381\n",
      "  (20797, 2990)\t0.3880792877652962\n",
      "  (20797, 2456)\t0.2745493352352737\n",
      "  (20797, 2440)\t0.44965985037357575\n",
      "  (20797, 2080)\t0.436309218946387\n",
      "  (20797, 866)\t0.40379508242207124\n",
      "  (20797, 10)\t0.4637776968132283\n",
      "  (20798, 3727)\t0.11134613408545631\n",
      "  (20798, 151)\t0.72641279604235\n",
      "  (20798, 73)\t0.6781788025072436\n",
      "  (20799, 3727)\t0.10523469385266691\n",
      "  (20799, 3610)\t0.8171160916135772\n",
      "  (20799, 858)\t0.5667865136326794\n"
     ]
    }
   ],
   "source": [
    "print(X)"
   ]
  },
  {
   "cell_type": "code",
   "execution_count": 81,
   "id": "238cb0ac",
   "metadata": {},
   "outputs": [],
   "source": [
    "#splitting the dataset ti training and testing"
   ]
  },
  {
   "cell_type": "code",
   "execution_count": 82,
   "id": "ef11ba1e",
   "metadata": {},
   "outputs": [],
   "source": [
    "X_train, X_test, Y_train, Y_test= train_test_split(X, Y, test_size= 0.2, stratify=Y, random_state=2)"
   ]
  },
  {
   "cell_type": "code",
   "execution_count": 83,
   "id": "c34a2b19",
   "metadata": {},
   "outputs": [],
   "source": [
    "#training the model using logistic regression"
   ]
  },
  {
   "cell_type": "code",
   "execution_count": 84,
   "id": "11618d96",
   "metadata": {},
   "outputs": [],
   "source": [
    "model= LogisticRegression()"
   ]
  },
  {
   "cell_type": "code",
   "execution_count": 85,
   "id": "e4551340",
   "metadata": {},
   "outputs": [
    {
     "data": {
      "text/plain": [
       "LogisticRegression()"
      ]
     },
     "execution_count": 85,
     "metadata": {},
     "output_type": "execute_result"
    }
   ],
   "source": [
    "model.fit(X_train, Y_train)"
   ]
  },
  {
   "cell_type": "code",
   "execution_count": 86,
   "id": "c41b22ee",
   "metadata": {},
   "outputs": [],
   "source": [
    "#accuracy score on the traininmg data"
   ]
  },
  {
   "cell_type": "code",
   "execution_count": 87,
   "id": "fc99d6d9",
   "metadata": {},
   "outputs": [],
   "source": [
    "X_train_prediction= model.predict(X_train)\n",
    "training_data_accuracy= accuracy_score(X_train_prediction, Y_train)"
   ]
  },
  {
   "cell_type": "code",
   "execution_count": 88,
   "id": "5c7bab06",
   "metadata": {},
   "outputs": [
    {
     "name": "stdout",
     "output_type": "stream",
     "text": [
      "Accuracy score of the training data : 0.9788461538461538\n"
     ]
    }
   ],
   "source": [
    "print('Accuracy score of the training data :', training_data_accuracy)"
   ]
  },
  {
   "cell_type": "code",
   "execution_count": 89,
   "id": "a01bd3a3",
   "metadata": {},
   "outputs": [],
   "source": [
    "X_test_prediction= model.predict(X_test)\n",
    "test_data_accuracy= accuracy_score(X_test_prediction, Y_test)"
   ]
  },
  {
   "cell_type": "code",
   "execution_count": 90,
   "id": "b527eccc",
   "metadata": {},
   "outputs": [
    {
     "name": "stdout",
     "output_type": "stream",
     "text": [
      "Accuracy score of the test data : 0.9591346153846154\n"
     ]
    }
   ],
   "source": [
    "print('Accuracy score of the test data :', test_data_accuracy)"
   ]
  },
  {
   "cell_type": "code",
   "execution_count": 91,
   "id": "99746c50",
   "metadata": {},
   "outputs": [],
   "source": [
    "#making a predictive system"
   ]
  },
  {
   "cell_type": "code",
   "execution_count": 97,
   "id": "fe02f11c",
   "metadata": {},
   "outputs": [
    {
     "name": "stdout",
     "output_type": "stream",
     "text": [
      "[1]\n",
      "the news is fake\n"
     ]
    }
   ],
   "source": [
    "X_new=X_test[5]\n",
    "\n",
    "prediction= model.predict(X_new)\n",
    "print(prediction)\n",
    "\n",
    "if (prediction[0]==0):\n",
    "    print('The news is real')\n",
    "else:\n",
    "    print('the news is fake')"
   ]
  },
  {
   "cell_type": "code",
   "execution_count": 98,
   "id": "d14299a2",
   "metadata": {},
   "outputs": [
    {
     "name": "stdout",
     "output_type": "stream",
     "text": [
      "1\n"
     ]
    }
   ],
   "source": [
    "print(Y_test[5])"
   ]
  },
  {
   "cell_type": "code",
   "execution_count": null,
   "id": "dad359bc",
   "metadata": {},
   "outputs": [],
   "source": []
  },
  {
   "cell_type": "code",
   "execution_count": null,
   "id": "fdfaa91f",
   "metadata": {},
   "outputs": [],
   "source": [
    "\n"
   ]
  },
  {
   "cell_type": "code",
   "execution_count": null,
   "id": "97c03181",
   "metadata": {},
   "outputs": [],
   "source": []
  },
  {
   "cell_type": "code",
   "execution_count": null,
   "id": "0c372d72",
   "metadata": {},
   "outputs": [],
   "source": []
  },
  {
   "cell_type": "code",
   "execution_count": null,
   "id": "4cbe7489",
   "metadata": {},
   "outputs": [],
   "source": []
  },
  {
   "cell_type": "code",
   "execution_count": null,
   "id": "86ae7ec9",
   "metadata": {},
   "outputs": [],
   "source": []
  },
  {
   "cell_type": "code",
   "execution_count": null,
   "id": "5e155206",
   "metadata": {},
   "outputs": [],
   "source": []
  },
  {
   "cell_type": "code",
   "execution_count": null,
   "id": "a08dc027",
   "metadata": {},
   "outputs": [],
   "source": []
  },
  {
   "cell_type": "code",
   "execution_count": null,
   "id": "dafd002e",
   "metadata": {},
   "outputs": [],
   "source": []
  },
  {
   "cell_type": "code",
   "execution_count": null,
   "id": "abffccc4",
   "metadata": {},
   "outputs": [],
   "source": []
  },
  {
   "cell_type": "code",
   "execution_count": null,
   "id": "7de494ff",
   "metadata": {},
   "outputs": [],
   "source": []
  },
  {
   "cell_type": "code",
   "execution_count": null,
   "id": "193911b3",
   "metadata": {},
   "outputs": [],
   "source": []
  },
  {
   "cell_type": "code",
   "execution_count": null,
   "id": "1f2d1524",
   "metadata": {},
   "outputs": [],
   "source": []
  },
  {
   "cell_type": "code",
   "execution_count": null,
   "id": "9be638bf",
   "metadata": {},
   "outputs": [],
   "source": []
  },
  {
   "cell_type": "code",
   "execution_count": null,
   "id": "d891b0ff",
   "metadata": {},
   "outputs": [],
   "source": []
  },
  {
   "cell_type": "code",
   "execution_count": null,
   "id": "31f29acd",
   "metadata": {},
   "outputs": [],
   "source": []
  },
  {
   "cell_type": "code",
   "execution_count": null,
   "id": "a089f5d4",
   "metadata": {},
   "outputs": [],
   "source": []
  },
  {
   "cell_type": "code",
   "execution_count": null,
   "id": "fd49b94b",
   "metadata": {},
   "outputs": [],
   "source": []
  }
 ],
 "metadata": {
  "kernelspec": {
   "display_name": "Python 3",
   "language": "python",
   "name": "python3"
  },
  "language_info": {
   "codemirror_mode": {
    "name": "ipython",
    "version": 3
   },
   "file_extension": ".py",
   "mimetype": "text/x-python",
   "name": "python",
   "nbconvert_exporter": "python",
   "pygments_lexer": "ipython3",
   "version": "3.8.8"
  }
 },
 "nbformat": 4,
 "nbformat_minor": 5
}
